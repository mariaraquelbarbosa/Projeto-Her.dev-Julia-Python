{
 "cells": [
  {
   "cell_type": "markdown",
   "id": "5f47ff43",
   "metadata": {},
   "source": [
    "# Loops\n",
    "Como usar `for` no Python?"
   ]
  },
  {
   "cell_type": "code",
   "execution_count": 1,
   "id": "2a98ab99",
   "metadata": {},
   "outputs": [
    {
     "name": "stdout",
     "output_type": "stream",
     "text": [
      "Alice\n",
      "Geovanna\n",
      "Emilly\n",
      "Ka\n",
      "Maria\n",
      "Adrielle\n",
      "Wallery\n",
      "Fernanda\n"
     ]
    }
   ],
   "source": [
    "# Interando listas\n",
    "membros_lista = [\"Alice\", \"Geovanna\", \"Emilly\", \"Ka\", \"Maria\", \"Adrielle\", \"Wallery\", \"Fernanda\"] \n",
    "\n",
    "for membro in membros_lista:\n",
    "    print(membro)"
   ]
  },
  {
   "cell_type": "code",
   "execution_count": 2,
   "id": "a635b971",
   "metadata": {},
   "outputs": [
    {
     "name": "stdout",
     "output_type": "stream",
     "text": [
      "Alice\n",
      "Geovanna\n",
      "Emilly\n",
      "Ka\n",
      "Maria\n",
      "Adrielle\n",
      "Wallery\n",
      "Fernanda\n"
     ]
    }
   ],
   "source": [
    "# Iterando tuplas\n",
    "membros_tupla = (\"Alice\", \"Geovanna\", \"Emilly\", \"Ka\", \"Maria\", \"Adrielle\", \"Wallery\", \"Fernanda\") \n",
    "\n",
    "for membro in membros_tupla:\n",
    "    print(membro)"
   ]
  },
  {
   "cell_type": "code",
   "execution_count": 4,
   "id": "ffa638ac",
   "metadata": {},
   "outputs": [
    {
     "name": "stdout",
     "output_type": "stream",
     "text": [
      "A\n",
      "d\n",
      "r\n",
      "i\n",
      "e\n",
      "l\n",
      "l\n",
      "e\n"
     ]
    }
   ],
   "source": [
    "# Iterando strings\n",
    "membro_string = \"Adrielle\"\n",
    "\n",
    "for string in membro_string:\n",
    "    print(string)"
   ]
  },
  {
   "cell_type": "code",
   "execution_count": 9,
   "id": "7ccac66c",
   "metadata": {},
   "outputs": [
    {
     "name": "stdout",
     "output_type": "stream",
     "text": [
      "1\n",
      "2\n",
      "3\n",
      "4\n",
      "5\n",
      "6\n",
      "7\n",
      "8\n"
     ]
    }
   ],
   "source": [
    "# Iterando range de números\n",
    "for i in range(1,9):\n",
    "    print(i)"
   ]
  },
  {
   "cell_type": "markdown",
   "id": "0a0b9cf3",
   "metadata": {},
   "source": [
    "# Loops\n",
    "Como usar `loops aninhados` no Python?"
   ]
  },
  {
   "cell_type": "code",
   "execution_count": 14,
   "id": "da6a2a55",
   "metadata": {},
   "outputs": [
    {
     "name": "stdout",
     "output_type": "stream",
     "text": [
      "1 \n",
      "2 2 \n",
      "3 3 3 \n",
      "4 4 4 4 \n",
      "5 5 5 5 5 \n",
      "6 6 6 6 6 6 \n",
      "7 7 7 7 7 7 7 \n",
      "8 8 8 8 8 8 8 8 \n"
     ]
    }
   ],
   "source": [
    "for i in range(1, 9):\n",
    "    for j in range(1, i + 1):\n",
    "        print(i, end=\" \")\n",
    "    print()"
   ]
  },
  {
   "cell_type": "markdown",
   "id": "08dbb129",
   "metadata": {},
   "source": [
    "# Loops\n",
    "Como usar `while` no Python?"
   ]
  },
  {
   "cell_type": "code",
   "execution_count": 18,
   "id": "d4e7e144",
   "metadata": {},
   "outputs": [
    {
     "name": "stdout",
     "output_type": "stream",
     "text": [
      "Alice\n",
      "Geovanna\n",
      "Emilly\n",
      "Ka\n",
      "Maria\n",
      "Adrielle\n",
      "Wallery\n",
      "Fernanda\n"
     ]
    }
   ],
   "source": [
    "membros_lista = [\"Alice\", \"Geovanna\", \"Emilly\", \"Ka\", \"Maria\", \"Adrielle\", \"Wallery\", \"Fernanda\"]\n",
    "\n",
    "i = 0\n",
    "\n",
    "while i < len(membros_lista):\n",
    "    membro = membros_lista[i]\n",
    "    print(membro)\n",
    "    i += 1"
   ]
  },
  {
   "cell_type": "markdown",
   "id": "18a34195",
   "metadata": {},
   "source": [
    "# Condicionais\n",
    "Como usar `condicionais` no Python?"
   ]
  },
  {
   "cell_type": "code",
   "execution_count": 19,
   "id": "13931565",
   "metadata": {},
   "outputs": [],
   "source": [
    "def verificacao(x, y):\n",
    "    if x < y:\n",
    "        print(\"x é menor que y\")\n",
    "    elif x > y:\n",
    "        print(\"x é maior que y\")\n",
    "    else:\n",
    "        print(\"x é igual a y\")"
   ]
  },
  {
   "cell_type": "code",
   "execution_count": 20,
   "id": "f08a99c6",
   "metadata": {},
   "outputs": [
    {
     "name": "stdout",
     "output_type": "stream",
     "text": [
      "x é menor que y\n"
     ]
    }
   ],
   "source": [
    "verificacao(1, 2)"
   ]
  },
  {
   "cell_type": "markdown",
   "id": "6fe81b22",
   "metadata": {},
   "source": [
    "# Extra\n",
    "Criando função para calcular a fórmula de bhaskara em Python."
   ]
  },
  {
   "cell_type": "code",
   "execution_count": 1,
   "id": "e0e77a96",
   "metadata": {},
   "outputs": [],
   "source": [
    "import math\n",
    "\n",
    "def bhaskara(a, b, c):\n",
    "    delta = b**2 - 4*a*c\n",
    "    \n",
    "    if delta > 0:\n",
    "        x1 = (-b + math.sqrt(delta)) / (2*a)\n",
    "        x2 = (-b - math.sqrt(delta)) / (2*a)\n",
    "        return (x1, x2)\n",
    "    elif delta == 0:\n",
    "        x = -b / (2*a)\n",
    "        return (x,)\n",
    "    else:\n",
    "        print(\"Não há nenhuma raiz real para essa equação\")\n",
    "        return ()"
   ]
  },
  {
   "cell_type": "code",
   "execution_count": 2,
   "id": "400f5c79",
   "metadata": {},
   "outputs": [
    {
     "data": {
      "text/plain": [
       "(2.0, -1.3333333333333333)"
      ]
     },
     "execution_count": 2,
     "metadata": {},
     "output_type": "execute_result"
    }
   ],
   "source": [
    "bhaskara(3, -2, -8)"
   ]
  }
 ],
 "metadata": {
  "kernelspec": {
   "display_name": "Python 3 (ipykernel)",
   "language": "python",
   "name": "python3"
  },
  "language_info": {
   "codemirror_mode": {
    "name": "ipython",
    "version": 3
   },
   "file_extension": ".py",
   "mimetype": "text/x-python",
   "name": "python",
   "nbconvert_exporter": "python",
   "pygments_lexer": "ipython3",
   "version": "3.11.4"
  }
 },
 "nbformat": 4,
 "nbformat_minor": 5
}
