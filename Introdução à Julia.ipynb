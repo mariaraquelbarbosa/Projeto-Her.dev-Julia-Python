{
 "cells": [
  {
   "attachments": {
    "image-2.png": {
     "image/png": "[encoded data removed]"
    }
   },
   "cell_type": "markdown",
   "id": "d8b46151",
   "metadata": {},
   "source": [
    "![image-2.png](attachment:image-2.png)"
   ]
  },
  {
   "attachments": {},
   "cell_type": "markdown",
   "id": "89834cc2",
   "metadata": {},
   "source": [
    "# <font color=pink> **Principais diferenças entre Julia e Python**</font>\n",
    "\n",
    "| Julia | Python |\n",
    "|----------|----------|\n",
    "| Linguagem Compilada | Linguagem Interpretada |\n",
    "| Mais rápida | Mais lento |\n",
    "| Comunidade pequena | Comunidade grande |\n",
    "| Bibliotecas limitadas | Várias bibliotecas |\n",
    "| Tipagem dinâmica ou estática | Tipagem estática |"
   ]
  },
  {
   "attachments": {},
   "cell_type": "markdown",
   "id": "672016df",
   "metadata": {},
   "source": [
    "# <font color=pink> **Como instalar Julia?**</font>\n",
    "[Veja esse vídeo e aprenda!](https://drive.google.com/file/d/1WBMB0SCPIh4qGmzgCGh1umzrjz6m9B_b/view?usp=drive_link)\n",
    "* Observação: tenha já instalado Anaconda na sua máquina para usar Julia no Jupyter Notebook."
   ]
  },
  {
   "attachments": {},
   "cell_type": "markdown",
   "id": "a923fab4",
   "metadata": {},
   "source": [
    "# <font color=pink> **Loops e Condicionais em Julia**"
   ]
  },
  {
   "cell_type": "markdown",
   "id": "fbaf2ac0",
   "metadata": {
    "id": "fbaf2ac0"
   },
   "source": [
    "## **Como usar ```for``` em Julia?**\n",
    "\n",
    "Sintaxe:\n",
    "```\n",
    "for iterator in range\n",
    "  statements(s)\n",
    "end\n",
    "```\n",
    "\n"
   ]
  },
  {
   "cell_type": "code",
   "execution_count": 2,
   "id": "642d0035",
   "metadata": {
    "id": "642d0035",
    "outputId": "7425922d-d689-4152-a842-f2fd14545ccc"
   },
   "outputs": [
    {
     "name": "stdout",
     "output_type": "stream",
     "text": [
      "Alice\n",
      "Geovanna\n",
      "Emilly\n",
      "Ka\n",
      "Maria\n",
      "Adrielle\n",
      "Wallery\n",
      "Fernanda\n"
     ]
    }
   ],
   "source": [
    "# Interando listas\n",
    "membros_lista = [\"Alice\", \"Geovanna\", \"Emilly\", \"Ka\", \"Maria\", \"Adrielle\", \"Wallery\", \"Fernanda\"]\n",
    "for membro in membros_lista\n",
    "    println(membro)\n",
    "end"
   ]
  },
  {
   "cell_type": "code",
   "execution_count": 3,
   "id": "73af0a2d",
   "metadata": {
    "id": "73af0a2d",
    "outputId": "21145bae-86f1-4ae0-e578-580c2cd35d0d"
   },
   "outputs": [
    {
     "name": "stdout",
     "output_type": "stream",
     "text": [
      "Alice, Geovanna, Emilly, Ka, Maria, Adrielle, Wallery, Fernanda, "
     ]
    }
   ],
   "source": [
    "#println() vs print()\n",
    "for membro in membros_lista\n",
    "    print(membro, \", \")\n",
    "end"
   ]
  },
  {
   "cell_type": "code",
   "execution_count": 4,
   "id": "1af62179",
   "metadata": {
    "id": "1af62179",
    "outputId": "afd1ba67-582c-402f-ce75-b906b26b28da"
   },
   "outputs": [
    {
     "name": "stdout",
     "output_type": "stream",
     "text": [
      "Alice\n",
      "Geovanna\n",
      "Emilly\n",
      "Ka\n",
      "Maria\n",
      "Adrielle\n",
      "Wallery\n",
      "Fernanda\n"
     ]
    }
   ],
   "source": [
    "# Iterando tuplas\n",
    "membros_tupla = (\"Alice\", \"Geovanna\", \"Emilly\", \"Ka\", \"Maria\", \"Adrielle\", \"Wallery\", \"Fernanda\")\n",
    "for membro in membros_tupla\n",
    "    println(membro)\n",
    "end"
   ]
  },
  {
   "cell_type": "code",
   "execution_count": 5,
   "id": "260ee8fd",
   "metadata": {
    "id": "260ee8fd",
    "outputId": "0b7eeeaf-45f4-459d-cd5a-484e4a290ed3"
   },
   "outputs": [
    {
     "name": "stdout",
     "output_type": "stream",
     "text": [
      "A\n",
      "d\n",
      "r\n",
      "i\n",
      "e\n",
      "l\n",
      "l\n",
      "e\n"
     ]
    }
   ],
   "source": [
    "# Iterando strings\n",
    "membro_string = \"Adrielle\"\n",
    "for string in membro_string\n",
    "    println(string)\n",
    "end"
   ]
  },
  {
   "cell_type": "code",
   "execution_count": 6,
   "id": "f1da3f29",
   "metadata": {
    "id": "f1da3f29",
    "outputId": "e5c73459-6ead-48e3-8ed8-e60266b4b495"
   },
   "outputs": [
    {
     "name": "stdout",
     "output_type": "stream",
     "text": [
      "1\n",
      "2\n",
      "3\n",
      "4\n",
      "5\n",
      "6\n",
      "7\n",
      "8\n"
     ]
    }
   ],
   "source": [
    "# Iterando range de números\n",
    "for i in 1:8\n",
    "    println(i)\n",
    "end"
   ]
  },
  {
   "cell_type": "markdown",
   "id": "U0uzKhPGFJ3B",
   "metadata": {
    "id": "U0uzKhPGFJ3B"
   },
   "source": [
    "## **Como usar `loops aninhados` em Julia?**\n",
    "\n",
    "Sintaxe:\n",
    "```\n",
    "for iterator in range\n",
    "    for iterator in range\n",
    "        statements(s)\n",
    "        statements(s)\n",
    "    end\n",
    "end\n",
    "```"
   ]
  },
  {
   "cell_type": "code",
   "execution_count": 7,
   "id": "02e2bfc3",
   "metadata": {
    "id": "02e2bfc3",
    "outputId": "eff8f6a6-fe89-4c02-dde5-69715439f00c"
   },
   "outputs": [
    {
     "name": "stdout",
     "output_type": "stream",
     "text": [
      "1 \n",
      "2 2 \n",
      "3 3 3 \n",
      "4 4 4 4 \n",
      "5 5 5 5 5 \n",
      "6 6 6 6 6 6 \n",
      "7 7 7 7 7 7 7 \n",
      "8 8 8 8 8 8 8 8 \n"
     ]
    }
   ],
   "source": [
    "for i in 1:8\n",
    "\n",
    "    for j in 1:i\n",
    "        print(i, \" \")\n",
    "    end\n",
    "\n",
    "    println()\n",
    "end"
   ]
  },
  {
   "cell_type": "markdown",
   "id": "9895944a",
   "metadata": {
    "id": "9895944a"
   },
   "source": [
    "## **Como usar `while` em Julia?**\n",
    "\n",
    "SIntaxe:\n",
    "```\n",
    "while expression\n",
    "\n",
    "    statement(s)\n",
    "\n",
    "end\n",
    "```"
   ]
  },
  {
   "cell_type": "code",
   "execution_count": 8,
   "id": "f905014d",
   "metadata": {
    "id": "f905014d",
    "outputId": "14e934eb-9279-45be-bc39-6728f9dcd6a0"
   },
   "outputs": [
    {
     "name": "stdout",
     "output_type": "stream",
     "text": [
      "Alice\n",
      "Geovanna\n",
      "Emilly\n",
      "Ka\n",
      "Maria\n",
      "Adrielle\n",
      "Wallery\n",
      "Fernanda\n"
     ]
    }
   ],
   "source": [
    "membros_lista = [\"Alice\", \"Geovanna\", \"Emilly\", \"Ka\", \"Maria\", \"Adrielle\", \"Wallery\", \"Fernanda\"]\n",
    "\n",
    "i = 1\n",
    "\n",
    "while i <= length(membros_lista)\n",
    "    membro = membros_lista[i]\n",
    "    println(membro)\n",
    "    global i += 1\n",
    "end"
   ]
  },
  {
   "cell_type": "markdown",
   "id": "2f65c7bf",
   "metadata": {
    "id": "2f65c7bf"
   },
   "source": [
    "## **Como usar ```condicionais``` em Julia?**"
   ]
  },
  {
   "cell_type": "code",
   "execution_count": 9,
   "id": "88ac3506",
   "metadata": {
    "id": "88ac3506",
    "outputId": "bbfaf527-7778-4b2d-d511-4fbe0af5a3f9"
   },
   "outputs": [
    {
     "data": {
      "text/plain": [
       "verificacao (generic function with 1 method)"
      ]
     },
     "execution_count": 9,
     "metadata": {},
     "output_type": "execute_result"
    }
   ],
   "source": [
    "function verificacao(x, y)\n",
    "    if x < y\n",
    "            println(\"x é menor que y\")\n",
    "    elseif x > y\n",
    "            println(\"x é maior que y\")\n",
    "    else\n",
    "            println(\"x é igual a y\")\n",
    "        end\n",
    "    end"
   ]
  },
  {
   "cell_type": "code",
   "execution_count": 10,
   "id": "f78f2f90",
   "metadata": {
    "id": "f78f2f90",
    "outputId": "e8dd8f82-4370-409c-f4fa-c2d7bfb77769"
   },
   "outputs": [
    {
     "name": "stdout",
     "output_type": "stream",
     "text": [
      "x é menor que y\n"
     ]
    }
   ],
   "source": [
    "verificacao(1, 2)"
   ]
  },
  {
   "cell_type": "markdown",
   "id": "5607adf7",
   "metadata": {},
   "source": [
    "## **Exemplo extra**\n",
    "Criando função para calcular a fórmula de bhaskara em Julia."
   ]
  },
  {
   "cell_type": "code",
   "execution_count": 17,
   "id": "7387efca",
   "metadata": {},
   "outputs": [
    {
     "data": {
      "text/plain": [
       "bhaskara (generic function with 1 method)"
      ]
     },
     "execution_count": 17,
     "metadata": {},
     "output_type": "execute_result"
    }
   ],
   "source": [
    "function bhaskara(a, b, c)\n",
    "    delta = b^2 - 4*a*c\n",
    "    \n",
    "    if delta > 0\n",
    "        x1 = (-b + sqrt(delta)) / (2*a)\n",
    "        x2 = (-b - sqrt(delta)) / (2*a)\n",
    "        return (x1, x2)\n",
    "    elseif delta == 0\n",
    "        x = -b / (2*a)\n",
    "        return (x,)\n",
    "    else\n",
    "        print(\"Não há nenhuma raiz real para essa equação\")\n",
    "        return ()\n",
    "    end\n",
    "end"
   ]
  },
  {
   "cell_type": "code",
   "execution_count": 18,
   "id": "8ad0bcd2",
   "metadata": {},
   "outputs": [
    {
     "data": {
      "text/plain": [
       "(2.0, -1.3333333333333333)"
      ]
     },
     "execution_count": 18,
     "metadata": {},
     "output_type": "execute_result"
    }
   ],
   "source": [
    "bhaskara(3, -2, -8)"
   ]
  },
  {
   "cell_type": "markdown",
   "id": "3a573de2",
   "metadata": {},
   "source": [
    "# <font color=pink> **Referências**</font>\n",
    "* https://docs.julialang.org/en/v1/\n",
    "* https://www.geeksforgeeks.org/for-loop-in-julia/\n",
    "* https://www.geeksforgeeks.org/while-loop-in-julia/\n",
    "* https://docs.julialang.org/en/v1/manual/control-flow/\n",
    "* [Mesmos exemplos em Python](https://github.com/mariaraquelbarbosa/introduction_julia/blob/main/Exemplos%20em%20Python.ipynb)"
   ]
  }
 ],
 "metadata": {
  "colab": {
   "provenance": []
  },
  "kernelspec": {
   "display_name": "Julia 1.9.3",
   "language": "julia",
   "name": "julia-1.9"
  },
  "language_info": {
   "file_extension": ".jl",
   "mimetype": "application/julia",
   "name": "julia",
   "version": "1.9.3"
  }
 },
 "nbformat": 4,
 "nbformat_minor": 5
}
